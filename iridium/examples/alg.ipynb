{
 "cells": [
  {
   "cell_type": "code",
   "execution_count": 1,
   "metadata": {},
   "outputs": [],
   "source": [
    "import pandas as pd"
   ]
  },
  {
   "cell_type": "code",
   "execution_count": 8,
   "metadata": {},
   "outputs": [],
   "source": [
    "perfs = pd.read_pickle(\"perfs.pkl\")"
   ]
  },
  {
   "cell_type": "code",
   "execution_count": 9,
   "metadata": {},
   "outputs": [
    {
     "data": {
      "text/html": [
       "<div>\n",
       "<style scoped>\n",
       "    .dataframe tbody tr th:only-of-type {\n",
       "        vertical-align: middle;\n",
       "    }\n",
       "\n",
       "    .dataframe tbody tr th {\n",
       "        vertical-align: top;\n",
       "    }\n",
       "\n",
       "    .dataframe thead th {\n",
       "        text-align: right;\n",
       "    }\n",
       "</style>\n",
       "<table border=\"1\" class=\"dataframe\">\n",
       "  <thead>\n",
       "    <tr style=\"text-align: right;\">\n",
       "      <th></th>\n",
       "      <th>nav</th>\n",
       "      <th>time</th>\n",
       "    </tr>\n",
       "  </thead>\n",
       "  <tbody>\n",
       "    <tr>\n",
       "      <th>2019-09-30 05:00:00+08:00</th>\n",
       "      <td>99998.610944</td>\n",
       "      <td>2019-09-30 05:00:00+08:00</td>\n",
       "    </tr>\n",
       "    <tr>\n",
       "      <th>2019-09-30 05:03:00+08:00</th>\n",
       "      <td>99996.479750</td>\n",
       "      <td>2019-09-30 05:03:00+08:00</td>\n",
       "    </tr>\n",
       "    <tr>\n",
       "      <th>2019-09-30 05:04:00+08:00</th>\n",
       "      <td>99998.240727</td>\n",
       "      <td>2019-09-30 05:04:00+08:00</td>\n",
       "    </tr>\n",
       "    <tr>\n",
       "      <th>2019-09-30 05:05:00+08:00</th>\n",
       "      <td>99997.684550</td>\n",
       "      <td>2019-09-30 05:05:00+08:00</td>\n",
       "    </tr>\n",
       "    <tr>\n",
       "      <th>2019-09-30 05:08:00+08:00</th>\n",
       "      <td>99996.573287</td>\n",
       "      <td>2019-09-30 05:08:00+08:00</td>\n",
       "    </tr>\n",
       "    <tr>\n",
       "      <th>...</th>\n",
       "      <td>...</td>\n",
       "      <td>...</td>\n",
       "    </tr>\n",
       "    <tr>\n",
       "      <th>2019-10-01 04:53:00+08:00</th>\n",
       "      <td>99967.339889</td>\n",
       "      <td>2019-10-01 04:53:00+08:00</td>\n",
       "    </tr>\n",
       "    <tr>\n",
       "      <th>2019-10-01 04:54:00+08:00</th>\n",
       "      <td>99966.785685</td>\n",
       "      <td>2019-10-01 04:54:00+08:00</td>\n",
       "    </tr>\n",
       "    <tr>\n",
       "      <th>2019-10-01 04:57:00+08:00</th>\n",
       "      <td>99965.484678</td>\n",
       "      <td>2019-10-01 04:57:00+08:00</td>\n",
       "    </tr>\n",
       "    <tr>\n",
       "      <th>2019-10-01 04:58:00+08:00</th>\n",
       "      <td>99965.300353</td>\n",
       "      <td>2019-10-01 04:58:00+08:00</td>\n",
       "    </tr>\n",
       "    <tr>\n",
       "      <th>2019-10-01 04:59:00+08:00</th>\n",
       "      <td>99964.931723</td>\n",
       "      <td>2019-10-01 04:59:00+08:00</td>\n",
       "    </tr>\n",
       "  </tbody>\n",
       "</table>\n",
       "<p>1331 rows × 2 columns</p>\n",
       "</div>"
      ],
      "text/plain": [
       "                                    nav                      time\n",
       "2019-09-30 05:00:00+08:00  99998.610944 2019-09-30 05:00:00+08:00\n",
       "2019-09-30 05:03:00+08:00  99996.479750 2019-09-30 05:03:00+08:00\n",
       "2019-09-30 05:04:00+08:00  99998.240727 2019-09-30 05:04:00+08:00\n",
       "2019-09-30 05:05:00+08:00  99997.684550 2019-09-30 05:05:00+08:00\n",
       "2019-09-30 05:08:00+08:00  99996.573287 2019-09-30 05:08:00+08:00\n",
       "...                                 ...                       ...\n",
       "2019-10-01 04:53:00+08:00  99967.339889 2019-10-01 04:53:00+08:00\n",
       "2019-10-01 04:54:00+08:00  99966.785685 2019-10-01 04:54:00+08:00\n",
       "2019-10-01 04:57:00+08:00  99965.484678 2019-10-01 04:57:00+08:00\n",
       "2019-10-01 04:58:00+08:00  99965.300353 2019-10-01 04:58:00+08:00\n",
       "2019-10-01 04:59:00+08:00  99964.931723 2019-10-01 04:59:00+08:00\n",
       "\n",
       "[1331 rows x 2 columns]"
      ]
     },
     "execution_count": 9,
     "metadata": {},
     "output_type": "execute_result"
    }
   ],
   "source": [
    "perfs"
   ]
  },
  {
   "cell_type": "code",
   "execution_count": 10,
   "metadata": {},
   "outputs": [
    {
     "data": {
      "text/plain": [
       "<matplotlib.axes._subplots.AxesSubplot at 0x116415890>"
      ]
     },
     "execution_count": 10,
     "metadata": {},
     "output_type": "execute_result"
    },
    {
     "data": {
      "image/png": "[encoded data removed]",
      "text/plain": [
       "<Figure size 432x288 with 1 Axes>"
      ]
     },
     "metadata": {
      "needs_background": "light"
     },
     "output_type": "display_data"
    }
   ],
   "source": [
    "perfs.plot(x='time', y='nav')"
   ]
  },
  {
   "cell_type": "code",
   "execution_count": null,
   "metadata": {},
   "outputs": [],
   "source": []
  }
 ],
 "metadata": {
  "kernelspec": {
   "display_name": "Python 3",
   "language": "python",
   "name": "python3"
  },
  "language_info": {
   "codemirror_mode": {
    "name": "ipython",
    "version": 3
   },
   "file_extension": ".py",
   "mimetype": "text/x-python",
   "name": "python",
   "nbconvert_exporter": "python",
   "pygments_lexer": "ipython3",
   "version": "3.7.4"
  }
 },
 "nbformat": 4,
 "nbformat_minor": 4
}
